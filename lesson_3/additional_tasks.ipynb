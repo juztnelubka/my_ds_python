{
 "cells": [
  {
   "cell_type": "markdown",
   "metadata": {
    "collapsed": true,
    "pycharm": {
     "name": "#%% md\n"
    }
   },
   "source": [
    "1). Загрузите датасет Wine из встроенных датасетов sklearn.datasets с помощью функции load_wine в переменную data.\n",
    "\n"
   ]
  },
  {
   "cell_type": "code",
   "execution_count": 199,
   "outputs": [],
   "source": [
    "from sklearn.datasets import load_wine\n",
    "import numpy as np\n",
    "import pandas as pd\n",
    "import matplotlib\n",
    "import matplotlib.image as img\n",
    "import matplotlib.pyplot as plt\n",
    "import seaborn as sns"
   ],
   "metadata": {
    "collapsed": false,
    "pycharm": {
     "name": "#%%\n",
     "is_executing": false
    }
   }
  },
  {
   "cell_type": "code",
   "execution_count": 200,
   "outputs": [],
   "source": [
    "data = load_wine()"
   ],
   "metadata": {
    "collapsed": false,
    "pycharm": {
     "name": "#%%\n",
     "is_executing": false
    }
   }
  },
  {
   "cell_type": "markdown",
   "source": [
    "\n",
    "2). Полученный датасет не является датафреймом. Это структура данных, имеющая ключи аналогично словарю. Просмотрите тип данных этой структуры данных и создайте список data_keys, содержащий ее ключи."
   ],
   "metadata": {
    "collapsed": false
   }
  },
  {
   "cell_type": "code",
   "execution_count": 201,
   "outputs": [],
   "source": [
    "\n",
    "type(data)\n",
    "data_keys = data.keys"
   ],
   "metadata": {
    "collapsed": false,
    "pycharm": {
     "name": "#%%\n",
     "is_executing": false
    }
   }
  },
  {
   "cell_type": "markdown",
   "source": [
    "\n",
    "3). Просмотрите данные, описание и названия признаков в датасете. Описание нужно вывести в виде привычного, аккуратно оформленного текста, без обозначений переноса строки, но с самими переносами и т.д."
   ],
   "metadata": {
    "collapsed": false
   }
  },
  {
   "cell_type": "code",
   "execution_count": 202,
   "outputs": [
    {
     "name": "stdout",
     "text": [
      ".. _wine_dataset:\n\nWine recognition dataset\n------------------------\n\n**Data Set Characteristics:**\n\n    :Number of Instances: 178 (50 in each of three classes)\n    :Number of Attributes: 13 numeric, predictive attributes and the class\n    :Attribute Information:\n \t\t- Alcohol\n \t\t- Malic acid\n \t\t- Ash\n\t\t- Alcalinity of ash  \n \t\t- Magnesium\n\t\t- Total phenols\n \t\t- Flavanoids\n \t\t- Nonflavanoid phenols\n \t\t- Proanthocyanins\n\t\t- Color intensity\n \t\t- Hue\n \t\t- OD280/OD315 of diluted wines\n \t\t- Proline\n\n    - class:\n            - class_0\n            - class_1\n            - class_2\n\t\t\n    :Summary Statistics:\n    \n    ============================= ==== ===== ======= =====\n                                   Min   Max   Mean     SD\n    ============================= ==== ===== ======= =====\n    Alcohol:                      11.0  14.8    13.0   0.8\n    Malic Acid:                   0.74  5.80    2.34  1.12\n    Ash:                          1.36  3.23    2.36  0.27\n    Alcalinity of Ash:            10.6  30.0    19.5   3.3\n    Magnesium:                    70.0 162.0    99.7  14.3\n    Total Phenols:                0.98  3.88    2.29  0.63\n    Flavanoids:                   0.34  5.08    2.03  1.00\n    Nonflavanoid Phenols:         0.13  0.66    0.36  0.12\n    Proanthocyanins:              0.41  3.58    1.59  0.57\n    Colour Intensity:              1.3  13.0     5.1   2.3\n    Hue:                          0.48  1.71    0.96  0.23\n    OD280/OD315 of diluted wines: 1.27  4.00    2.61  0.71\n    Proline:                       278  1680     746   315\n    ============================= ==== ===== ======= =====\n\n    :Missing Attribute Values: None\n    :Class Distribution: class_0 (59), class_1 (71), class_2 (48)\n    :Creator: R.A. Fisher\n    :Donor: Michael Marshall (MARSHALL%PLU@io.arc.nasa.gov)\n    :Date: July, 1988\n\nThis is a copy of UCI ML Wine recognition datasets.\nhttps://archive.ics.uci.edu/ml/machine-learning-databases/wine/wine.data\n\nThe data is the results of a chemical analysis of wines grown in the same\nregion in Italy by three different cultivators. There are thirteen different\nmeasurements taken for different constituents found in the three types of\nwine.\n\nOriginal Owners: \n\nForina, M. et al, PARVUS - \nAn Extendible Package for Data Exploration, Classification and Correlation. \nInstitute of Pharmaceutical and Food Analysis and Technologies,\nVia Brigata Salerno, 16147 Genoa, Italy.\n\nCitation:\n\nLichman, M. (2013). UCI Machine Learning Repository\n[https://archive.ics.uci.edu/ml]. Irvine, CA: University of California,\nSchool of Information and Computer Science. \n\n.. topic:: References\n\n  (1) S. Aeberhard, D. Coomans and O. de Vel, \n  Comparison of Classifiers in High Dimensional Settings, \n  Tech. Rep. no. 92-02, (1992), Dept. of Computer Science and Dept. of  \n  Mathematics and Statistics, James Cook University of North Queensland. \n  (Also submitted to Technometrics). \n\n  The data was used with many others for comparing various \n  classifiers. The classes are separable, though only RDA \n  has achieved 100% correct classification. \n  (RDA : 100%, QDA 99.4%, LDA 98.9%, 1NN 96.1% (z-transformed data)) \n  (All results using the leave-one-out technique) \n\n  (2) S. Aeberhard, D. Coomans and O. de Vel, \n  \"THE CLASSIFICATION PERFORMANCE OF RDA\" \n  Tech. Rep. no. 92-01, (1992), Dept. of Computer Science and Dept. of \n  Mathematics and Statistics, James Cook University of North Queensland. \n  (Also submitted to Journal of Chemometrics).\n\n"
     ],
     "output_type": "stream"
    }
   ],
   "source": [
    "print(data['DESCR'])"
   ],
   "metadata": {
    "collapsed": false,
    "pycharm": {
     "name": "#%%\n",
     "is_executing": false
    }
   }
  },
  {
   "cell_type": "markdown",
   "source": [
    "\n",
    "4). Сколько классов содержит целевая переменная датасета? Выведите названия классов."
   ],
   "metadata": {
    "collapsed": false
   }
  },
  {
   "cell_type": "code",
   "execution_count": 203,
   "outputs": [
    {
     "name": "stdout",
     "text": [
      "Class quantity: 3\n"
     ],
     "output_type": "stream"
    }
   ],
   "source": [
    "\n",
    "target_names = data['target_names']\n",
    "print(f'Class quantity: {np.count_nonzero(target_names)}')\n",
    "target_names\n",
    "feature_names = data['feature_names']"
   ],
   "metadata": {
    "collapsed": false,
    "pycharm": {
     "name": "#%%\n",
     "is_executing": false
    }
   }
  },
  {
   "cell_type": "markdown",
   "source": [
    "5). На основе данных датасета (они содержатся в двумерном массиве Numpy) и названий признаков создайте датафрейм под названием X.\n"
   ],
   "metadata": {
    "collapsed": false
   }
  },
  {
   "cell_type": "code",
   "execution_count": 204,
   "outputs": [
    {
     "data": {
      "text/plain": "     alcohol  malic_acid   ash  alcalinity_of_ash  magnesium  total_phenols  \\\n0      14.23        1.71  2.43               15.6      127.0           2.80   \n1      13.20        1.78  2.14               11.2      100.0           2.65   \n2      13.16        2.36  2.67               18.6      101.0           2.80   \n3      14.37        1.95  2.50               16.8      113.0           3.85   \n4      13.24        2.59  2.87               21.0      118.0           2.80   \n..       ...         ...   ...                ...        ...            ...   \n173    13.71        5.65  2.45               20.5       95.0           1.68   \n174    13.40        3.91  2.48               23.0      102.0           1.80   \n175    13.27        4.28  2.26               20.0      120.0           1.59   \n176    13.17        2.59  2.37               20.0      120.0           1.65   \n177    14.13        4.10  2.74               24.5       96.0           2.05   \n\n     flavanoids  nonflavanoid_phenols  proanthocyanins  color_intensity   hue  \\\n0          3.06                  0.28             2.29             5.64  1.04   \n1          2.76                  0.26             1.28             4.38  1.05   \n2          3.24                  0.30             2.81             5.68  1.03   \n3          3.49                  0.24             2.18             7.80  0.86   \n4          2.69                  0.39             1.82             4.32  1.04   \n..          ...                   ...              ...              ...   ...   \n173        0.61                  0.52             1.06             7.70  0.64   \n174        0.75                  0.43             1.41             7.30  0.70   \n175        0.69                  0.43             1.35            10.20  0.59   \n176        0.68                  0.53             1.46             9.30  0.60   \n177        0.76                  0.56             1.35             9.20  0.61   \n\n     od280/od315_of_diluted_wines  proline  \n0                            3.92   1065.0  \n1                            3.40   1050.0  \n2                            3.17   1185.0  \n3                            3.45   1480.0  \n4                            2.93    735.0  \n..                            ...      ...  \n173                          1.74    740.0  \n174                          1.56    750.0  \n175                          1.56    835.0  \n176                          1.62    840.0  \n177                          1.60    560.0  \n\n[178 rows x 13 columns]",
      "text/html": "<div>\n<style scoped>\n    .dataframe tbody tr th:only-of-type {\n        vertical-align: middle;\n    }\n\n    .dataframe tbody tr th {\n        vertical-align: top;\n    }\n\n    .dataframe thead th {\n        text-align: right;\n    }\n</style>\n<table border=\"1\" class=\"dataframe\">\n  <thead>\n    <tr style=\"text-align: right;\">\n      <th></th>\n      <th>alcohol</th>\n      <th>malic_acid</th>\n      <th>ash</th>\n      <th>alcalinity_of_ash</th>\n      <th>magnesium</th>\n      <th>total_phenols</th>\n      <th>flavanoids</th>\n      <th>nonflavanoid_phenols</th>\n      <th>proanthocyanins</th>\n      <th>color_intensity</th>\n      <th>hue</th>\n      <th>od280/od315_of_diluted_wines</th>\n      <th>proline</th>\n    </tr>\n  </thead>\n  <tbody>\n    <tr>\n      <th>0</th>\n      <td>14.23</td>\n      <td>1.71</td>\n      <td>2.43</td>\n      <td>15.6</td>\n      <td>127.0</td>\n      <td>2.80</td>\n      <td>3.06</td>\n      <td>0.28</td>\n      <td>2.29</td>\n      <td>5.64</td>\n      <td>1.04</td>\n      <td>3.92</td>\n      <td>1065.0</td>\n    </tr>\n    <tr>\n      <th>1</th>\n      <td>13.20</td>\n      <td>1.78</td>\n      <td>2.14</td>\n      <td>11.2</td>\n      <td>100.0</td>\n      <td>2.65</td>\n      <td>2.76</td>\n      <td>0.26</td>\n      <td>1.28</td>\n      <td>4.38</td>\n      <td>1.05</td>\n      <td>3.40</td>\n      <td>1050.0</td>\n    </tr>\n    <tr>\n      <th>2</th>\n      <td>13.16</td>\n      <td>2.36</td>\n      <td>2.67</td>\n      <td>18.6</td>\n      <td>101.0</td>\n      <td>2.80</td>\n      <td>3.24</td>\n      <td>0.30</td>\n      <td>2.81</td>\n      <td>5.68</td>\n      <td>1.03</td>\n      <td>3.17</td>\n      <td>1185.0</td>\n    </tr>\n    <tr>\n      <th>3</th>\n      <td>14.37</td>\n      <td>1.95</td>\n      <td>2.50</td>\n      <td>16.8</td>\n      <td>113.0</td>\n      <td>3.85</td>\n      <td>3.49</td>\n      <td>0.24</td>\n      <td>2.18</td>\n      <td>7.80</td>\n      <td>0.86</td>\n      <td>3.45</td>\n      <td>1480.0</td>\n    </tr>\n    <tr>\n      <th>4</th>\n      <td>13.24</td>\n      <td>2.59</td>\n      <td>2.87</td>\n      <td>21.0</td>\n      <td>118.0</td>\n      <td>2.80</td>\n      <td>2.69</td>\n      <td>0.39</td>\n      <td>1.82</td>\n      <td>4.32</td>\n      <td>1.04</td>\n      <td>2.93</td>\n      <td>735.0</td>\n    </tr>\n    <tr>\n      <th>...</th>\n      <td>...</td>\n      <td>...</td>\n      <td>...</td>\n      <td>...</td>\n      <td>...</td>\n      <td>...</td>\n      <td>...</td>\n      <td>...</td>\n      <td>...</td>\n      <td>...</td>\n      <td>...</td>\n      <td>...</td>\n      <td>...</td>\n    </tr>\n    <tr>\n      <th>173</th>\n      <td>13.71</td>\n      <td>5.65</td>\n      <td>2.45</td>\n      <td>20.5</td>\n      <td>95.0</td>\n      <td>1.68</td>\n      <td>0.61</td>\n      <td>0.52</td>\n      <td>1.06</td>\n      <td>7.70</td>\n      <td>0.64</td>\n      <td>1.74</td>\n      <td>740.0</td>\n    </tr>\n    <tr>\n      <th>174</th>\n      <td>13.40</td>\n      <td>3.91</td>\n      <td>2.48</td>\n      <td>23.0</td>\n      <td>102.0</td>\n      <td>1.80</td>\n      <td>0.75</td>\n      <td>0.43</td>\n      <td>1.41</td>\n      <td>7.30</td>\n      <td>0.70</td>\n      <td>1.56</td>\n      <td>750.0</td>\n    </tr>\n    <tr>\n      <th>175</th>\n      <td>13.27</td>\n      <td>4.28</td>\n      <td>2.26</td>\n      <td>20.0</td>\n      <td>120.0</td>\n      <td>1.59</td>\n      <td>0.69</td>\n      <td>0.43</td>\n      <td>1.35</td>\n      <td>10.20</td>\n      <td>0.59</td>\n      <td>1.56</td>\n      <td>835.0</td>\n    </tr>\n    <tr>\n      <th>176</th>\n      <td>13.17</td>\n      <td>2.59</td>\n      <td>2.37</td>\n      <td>20.0</td>\n      <td>120.0</td>\n      <td>1.65</td>\n      <td>0.68</td>\n      <td>0.53</td>\n      <td>1.46</td>\n      <td>9.30</td>\n      <td>0.60</td>\n      <td>1.62</td>\n      <td>840.0</td>\n    </tr>\n    <tr>\n      <th>177</th>\n      <td>14.13</td>\n      <td>4.10</td>\n      <td>2.74</td>\n      <td>24.5</td>\n      <td>96.0</td>\n      <td>2.05</td>\n      <td>0.76</td>\n      <td>0.56</td>\n      <td>1.35</td>\n      <td>9.20</td>\n      <td>0.61</td>\n      <td>1.60</td>\n      <td>560.0</td>\n    </tr>\n  </tbody>\n</table>\n<p>178 rows × 13 columns</p>\n</div>"
     },
     "metadata": {},
     "output_type": "execute_result",
     "execution_count": 204
    }
   ],
   "source": [
    "data['data']\n",
    "X = pd.DataFrame(data['data'],columns=data['feature_names'])\n",
    "X"
   ],
   "metadata": {
    "collapsed": false,
    "pycharm": {
     "name": "#%%\n",
     "is_executing": false
    }
   }
  },
  {
   "cell_type": "markdown",
   "source": [
    "\n",
    "6). Выясните размер датафрейма X и установите, имеются ли в нем пропущенные значения."
   ],
   "metadata": {
    "collapsed": false
   }
  },
  {
   "cell_type": "code",
   "execution_count": 205,
   "outputs": [
    {
     "name": "stdout",
     "text": [
      "X memory usage is 18.203 Kb\n"
     ],
     "output_type": "stream"
    },
    {
     "data": {
      "text/plain": "alcohol                         0\nmalic_acid                      0\nash                             0\nalcalinity_of_ash               0\nmagnesium                       0\ntotal_phenols                   0\nflavanoids                      0\nnonflavanoid_phenols            0\nproanthocyanins                 0\ncolor_intensity                 0\nhue                             0\nod280/od315_of_diluted_wines    0\nproline                         0\ndtype: int64"
     },
     "metadata": {},
     "output_type": "execute_result",
     "execution_count": 205
    }
   ],
   "source": [
    "print(f'X memory usage is {round(X.memory_usage().sum() / 1024, 3)} Kb')\n",
    "\n",
    "X.isnull().sum()"
   ],
   "metadata": {
    "collapsed": false,
    "pycharm": {
     "name": "#%%\n",
     "is_executing": false
    }
   }
  },
  {
   "cell_type": "markdown",
   "source": [
    "7). Добавьте в датафрейм поле с классами вин в виде чисел, имеющих тип данных numpy.int64. Название поля - 'target'.\n"
   ],
   "metadata": {
    "collapsed": false,
    "pycharm": {
     "name": "#%% md\n"
    }
   }
  },
  {
   "cell_type": "code",
   "execution_count": 206,
   "outputs": [
    {
     "name": "stdout",
     "text": [
      "target    int64\ndtype: object\n"
     ],
     "output_type": "stream"
    },
    {
     "data": {
      "text/plain": "     alcohol  malic_acid   ash  alcalinity_of_ash  magnesium  total_phenols  \\\n0      14.23        1.71  2.43               15.6      127.0           2.80   \n1      13.20        1.78  2.14               11.2      100.0           2.65   \n2      13.16        2.36  2.67               18.6      101.0           2.80   \n3      14.37        1.95  2.50               16.8      113.0           3.85   \n4      13.24        2.59  2.87               21.0      118.0           2.80   \n..       ...         ...   ...                ...        ...            ...   \n173    13.71        5.65  2.45               20.5       95.0           1.68   \n174    13.40        3.91  2.48               23.0      102.0           1.80   \n175    13.27        4.28  2.26               20.0      120.0           1.59   \n176    13.17        2.59  2.37               20.0      120.0           1.65   \n177    14.13        4.10  2.74               24.5       96.0           2.05   \n\n     flavanoids  nonflavanoid_phenols  proanthocyanins  color_intensity   hue  \\\n0          3.06                  0.28             2.29             5.64  1.04   \n1          2.76                  0.26             1.28             4.38  1.05   \n2          3.24                  0.30             2.81             5.68  1.03   \n3          3.49                  0.24             2.18             7.80  0.86   \n4          2.69                  0.39             1.82             4.32  1.04   \n..          ...                   ...              ...              ...   ...   \n173        0.61                  0.52             1.06             7.70  0.64   \n174        0.75                  0.43             1.41             7.30  0.70   \n175        0.69                  0.43             1.35            10.20  0.59   \n176        0.68                  0.53             1.46             9.30  0.60   \n177        0.76                  0.56             1.35             9.20  0.61   \n\n     od280/od315_of_diluted_wines  proline  target  \n0                            3.92   1065.0       0  \n1                            3.40   1050.0       0  \n2                            3.17   1185.0       0  \n3                            3.45   1480.0       0  \n4                            2.93    735.0       0  \n..                            ...      ...     ...  \n173                          1.74    740.0       2  \n174                          1.56    750.0       2  \n175                          1.56    835.0       2  \n176                          1.62    840.0       2  \n177                          1.60    560.0       2  \n\n[178 rows x 14 columns]",
      "text/html": "<div>\n<style scoped>\n    .dataframe tbody tr th:only-of-type {\n        vertical-align: middle;\n    }\n\n    .dataframe tbody tr th {\n        vertical-align: top;\n    }\n\n    .dataframe thead th {\n        text-align: right;\n    }\n</style>\n<table border=\"1\" class=\"dataframe\">\n  <thead>\n    <tr style=\"text-align: right;\">\n      <th></th>\n      <th>alcohol</th>\n      <th>malic_acid</th>\n      <th>ash</th>\n      <th>alcalinity_of_ash</th>\n      <th>magnesium</th>\n      <th>total_phenols</th>\n      <th>flavanoids</th>\n      <th>nonflavanoid_phenols</th>\n      <th>proanthocyanins</th>\n      <th>color_intensity</th>\n      <th>hue</th>\n      <th>od280/od315_of_diluted_wines</th>\n      <th>proline</th>\n      <th>target</th>\n    </tr>\n  </thead>\n  <tbody>\n    <tr>\n      <th>0</th>\n      <td>14.23</td>\n      <td>1.71</td>\n      <td>2.43</td>\n      <td>15.6</td>\n      <td>127.0</td>\n      <td>2.80</td>\n      <td>3.06</td>\n      <td>0.28</td>\n      <td>2.29</td>\n      <td>5.64</td>\n      <td>1.04</td>\n      <td>3.92</td>\n      <td>1065.0</td>\n      <td>0</td>\n    </tr>\n    <tr>\n      <th>1</th>\n      <td>13.20</td>\n      <td>1.78</td>\n      <td>2.14</td>\n      <td>11.2</td>\n      <td>100.0</td>\n      <td>2.65</td>\n      <td>2.76</td>\n      <td>0.26</td>\n      <td>1.28</td>\n      <td>4.38</td>\n      <td>1.05</td>\n      <td>3.40</td>\n      <td>1050.0</td>\n      <td>0</td>\n    </tr>\n    <tr>\n      <th>2</th>\n      <td>13.16</td>\n      <td>2.36</td>\n      <td>2.67</td>\n      <td>18.6</td>\n      <td>101.0</td>\n      <td>2.80</td>\n      <td>3.24</td>\n      <td>0.30</td>\n      <td>2.81</td>\n      <td>5.68</td>\n      <td>1.03</td>\n      <td>3.17</td>\n      <td>1185.0</td>\n      <td>0</td>\n    </tr>\n    <tr>\n      <th>3</th>\n      <td>14.37</td>\n      <td>1.95</td>\n      <td>2.50</td>\n      <td>16.8</td>\n      <td>113.0</td>\n      <td>3.85</td>\n      <td>3.49</td>\n      <td>0.24</td>\n      <td>2.18</td>\n      <td>7.80</td>\n      <td>0.86</td>\n      <td>3.45</td>\n      <td>1480.0</td>\n      <td>0</td>\n    </tr>\n    <tr>\n      <th>4</th>\n      <td>13.24</td>\n      <td>2.59</td>\n      <td>2.87</td>\n      <td>21.0</td>\n      <td>118.0</td>\n      <td>2.80</td>\n      <td>2.69</td>\n      <td>0.39</td>\n      <td>1.82</td>\n      <td>4.32</td>\n      <td>1.04</td>\n      <td>2.93</td>\n      <td>735.0</td>\n      <td>0</td>\n    </tr>\n    <tr>\n      <th>...</th>\n      <td>...</td>\n      <td>...</td>\n      <td>...</td>\n      <td>...</td>\n      <td>...</td>\n      <td>...</td>\n      <td>...</td>\n      <td>...</td>\n      <td>...</td>\n      <td>...</td>\n      <td>...</td>\n      <td>...</td>\n      <td>...</td>\n      <td>...</td>\n    </tr>\n    <tr>\n      <th>173</th>\n      <td>13.71</td>\n      <td>5.65</td>\n      <td>2.45</td>\n      <td>20.5</td>\n      <td>95.0</td>\n      <td>1.68</td>\n      <td>0.61</td>\n      <td>0.52</td>\n      <td>1.06</td>\n      <td>7.70</td>\n      <td>0.64</td>\n      <td>1.74</td>\n      <td>740.0</td>\n      <td>2</td>\n    </tr>\n    <tr>\n      <th>174</th>\n      <td>13.40</td>\n      <td>3.91</td>\n      <td>2.48</td>\n      <td>23.0</td>\n      <td>102.0</td>\n      <td>1.80</td>\n      <td>0.75</td>\n      <td>0.43</td>\n      <td>1.41</td>\n      <td>7.30</td>\n      <td>0.70</td>\n      <td>1.56</td>\n      <td>750.0</td>\n      <td>2</td>\n    </tr>\n    <tr>\n      <th>175</th>\n      <td>13.27</td>\n      <td>4.28</td>\n      <td>2.26</td>\n      <td>20.0</td>\n      <td>120.0</td>\n      <td>1.59</td>\n      <td>0.69</td>\n      <td>0.43</td>\n      <td>1.35</td>\n      <td>10.20</td>\n      <td>0.59</td>\n      <td>1.56</td>\n      <td>835.0</td>\n      <td>2</td>\n    </tr>\n    <tr>\n      <th>176</th>\n      <td>13.17</td>\n      <td>2.59</td>\n      <td>2.37</td>\n      <td>20.0</td>\n      <td>120.0</td>\n      <td>1.65</td>\n      <td>0.68</td>\n      <td>0.53</td>\n      <td>1.46</td>\n      <td>9.30</td>\n      <td>0.60</td>\n      <td>1.62</td>\n      <td>840.0</td>\n      <td>2</td>\n    </tr>\n    <tr>\n      <th>177</th>\n      <td>14.13</td>\n      <td>4.10</td>\n      <td>2.74</td>\n      <td>24.5</td>\n      <td>96.0</td>\n      <td>2.05</td>\n      <td>0.76</td>\n      <td>0.56</td>\n      <td>1.35</td>\n      <td>9.20</td>\n      <td>0.61</td>\n      <td>1.60</td>\n      <td>560.0</td>\n      <td>2</td>\n    </tr>\n  </tbody>\n</table>\n<p>178 rows × 14 columns</p>\n</div>"
     },
     "metadata": {},
     "output_type": "execute_result",
     "execution_count": 206
    }
   ],
   "source": [
    "target = pd.DataFrame(data['target'], columns=['target'])\n",
    "target = target.astype('int64')\n",
    "print(target.dtypes)\n",
    "\n",
    "X = pd.concat([X, target], axis=1)\n",
    "X"
   ],
   "metadata": {
    "collapsed": false,
    "pycharm": {
     "name": "#%%\n",
     "is_executing": false
    }
   }
  },
  {
   "cell_type": "markdown",
   "source": [
    "8). Постройте матрицу корреляций для всех полей X. Дайте полученному датафрейму название X_corr.\n"
   ],
   "metadata": {
    "collapsed": false
   }
  },
  {
   "cell_type": "code",
   "execution_count": 207,
   "outputs": [
    {
     "data": {
      "text/plain": "                              alcohol  malic_acid   ash  alcalinity_of_ash  \\\nalcohol                          1.00        0.09  0.21              -0.31   \nmalic_acid                       0.09        1.00  0.16               0.29   \nash                              0.21        0.16  1.00               0.44   \nalcalinity_of_ash               -0.31        0.29  0.44               1.00   \nmagnesium                        0.27       -0.05  0.29              -0.08   \ntotal_phenols                    0.29       -0.34  0.13              -0.32   \nflavanoids                       0.24       -0.41  0.12              -0.35   \nnonflavanoid_phenols            -0.16        0.29  0.19               0.36   \nproanthocyanins                  0.14       -0.22  0.01              -0.20   \ncolor_intensity                  0.55        0.25  0.26               0.02   \nhue                             -0.07       -0.56 -0.07              -0.27   \nod280/od315_of_diluted_wines     0.07       -0.37  0.00              -0.28   \nproline                          0.64       -0.19  0.22              -0.44   \ntarget                          -0.33        0.44 -0.05               0.52   \n\n                              magnesium  total_phenols  flavanoids  \\\nalcohol                            0.27           0.29        0.24   \nmalic_acid                        -0.05          -0.34       -0.41   \nash                                0.29           0.13        0.12   \nalcalinity_of_ash                 -0.08          -0.32       -0.35   \nmagnesium                          1.00           0.21        0.20   \ntotal_phenols                      0.21           1.00        0.86   \nflavanoids                         0.20           0.86        1.00   \nnonflavanoid_phenols              -0.26          -0.45       -0.54   \nproanthocyanins                    0.24           0.61        0.65   \ncolor_intensity                    0.20          -0.06       -0.17   \nhue                                0.06           0.43        0.54   \nod280/od315_of_diluted_wines       0.07           0.70        0.79   \nproline                            0.39           0.50        0.49   \ntarget                            -0.21          -0.72       -0.85   \n\n                              nonflavanoid_phenols  proanthocyanins  \\\nalcohol                                      -0.16             0.14   \nmalic_acid                                    0.29            -0.22   \nash                                           0.19             0.01   \nalcalinity_of_ash                             0.36            -0.20   \nmagnesium                                    -0.26             0.24   \ntotal_phenols                                -0.45             0.61   \nflavanoids                                   -0.54             0.65   \nnonflavanoid_phenols                          1.00            -0.37   \nproanthocyanins                              -0.37             1.00   \ncolor_intensity                               0.14            -0.03   \nhue                                          -0.26             0.30   \nod280/od315_of_diluted_wines                 -0.50             0.52   \nproline                                      -0.31             0.33   \ntarget                                        0.49            -0.50   \n\n                              color_intensity   hue  \\\nalcohol                                  0.55 -0.07   \nmalic_acid                               0.25 -0.56   \nash                                      0.26 -0.07   \nalcalinity_of_ash                        0.02 -0.27   \nmagnesium                                0.20  0.06   \ntotal_phenols                           -0.06  0.43   \nflavanoids                              -0.17  0.54   \nnonflavanoid_phenols                     0.14 -0.26   \nproanthocyanins                         -0.03  0.30   \ncolor_intensity                          1.00 -0.52   \nhue                                     -0.52  1.00   \nod280/od315_of_diluted_wines            -0.43  0.57   \nproline                                  0.32  0.24   \ntarget                                   0.27 -0.62   \n\n                              od280/od315_of_diluted_wines  proline  target  \nalcohol                                               0.07     0.64   -0.33  \nmalic_acid                                           -0.37    -0.19    0.44  \nash                                                   0.00     0.22   -0.05  \nalcalinity_of_ash                                    -0.28    -0.44    0.52  \nmagnesium                                             0.07     0.39   -0.21  \ntotal_phenols                                         0.70     0.50   -0.72  \nflavanoids                                            0.79     0.49   -0.85  \nnonflavanoid_phenols                                 -0.50    -0.31    0.49  \nproanthocyanins                                       0.52     0.33   -0.50  \ncolor_intensity                                      -0.43     0.32    0.27  \nhue                                                   0.57     0.24   -0.62  \nod280/od315_of_diluted_wines                          1.00     0.31   -0.79  \nproline                                               0.31     1.00   -0.63  \ntarget                                               -0.79    -0.63    1.00  ",
      "text/html": "<div>\n<style scoped>\n    .dataframe tbody tr th:only-of-type {\n        vertical-align: middle;\n    }\n\n    .dataframe tbody tr th {\n        vertical-align: top;\n    }\n\n    .dataframe thead th {\n        text-align: right;\n    }\n</style>\n<table border=\"1\" class=\"dataframe\">\n  <thead>\n    <tr style=\"text-align: right;\">\n      <th></th>\n      <th>alcohol</th>\n      <th>malic_acid</th>\n      <th>ash</th>\n      <th>alcalinity_of_ash</th>\n      <th>magnesium</th>\n      <th>total_phenols</th>\n      <th>flavanoids</th>\n      <th>nonflavanoid_phenols</th>\n      <th>proanthocyanins</th>\n      <th>color_intensity</th>\n      <th>hue</th>\n      <th>od280/od315_of_diluted_wines</th>\n      <th>proline</th>\n      <th>target</th>\n    </tr>\n  </thead>\n  <tbody>\n    <tr>\n      <th>alcohol</th>\n      <td>1.00</td>\n      <td>0.09</td>\n      <td>0.21</td>\n      <td>-0.31</td>\n      <td>0.27</td>\n      <td>0.29</td>\n      <td>0.24</td>\n      <td>-0.16</td>\n      <td>0.14</td>\n      <td>0.55</td>\n      <td>-0.07</td>\n      <td>0.07</td>\n      <td>0.64</td>\n      <td>-0.33</td>\n    </tr>\n    <tr>\n      <th>malic_acid</th>\n      <td>0.09</td>\n      <td>1.00</td>\n      <td>0.16</td>\n      <td>0.29</td>\n      <td>-0.05</td>\n      <td>-0.34</td>\n      <td>-0.41</td>\n      <td>0.29</td>\n      <td>-0.22</td>\n      <td>0.25</td>\n      <td>-0.56</td>\n      <td>-0.37</td>\n      <td>-0.19</td>\n      <td>0.44</td>\n    </tr>\n    <tr>\n      <th>ash</th>\n      <td>0.21</td>\n      <td>0.16</td>\n      <td>1.00</td>\n      <td>0.44</td>\n      <td>0.29</td>\n      <td>0.13</td>\n      <td>0.12</td>\n      <td>0.19</td>\n      <td>0.01</td>\n      <td>0.26</td>\n      <td>-0.07</td>\n      <td>0.00</td>\n      <td>0.22</td>\n      <td>-0.05</td>\n    </tr>\n    <tr>\n      <th>alcalinity_of_ash</th>\n      <td>-0.31</td>\n      <td>0.29</td>\n      <td>0.44</td>\n      <td>1.00</td>\n      <td>-0.08</td>\n      <td>-0.32</td>\n      <td>-0.35</td>\n      <td>0.36</td>\n      <td>-0.20</td>\n      <td>0.02</td>\n      <td>-0.27</td>\n      <td>-0.28</td>\n      <td>-0.44</td>\n      <td>0.52</td>\n    </tr>\n    <tr>\n      <th>magnesium</th>\n      <td>0.27</td>\n      <td>-0.05</td>\n      <td>0.29</td>\n      <td>-0.08</td>\n      <td>1.00</td>\n      <td>0.21</td>\n      <td>0.20</td>\n      <td>-0.26</td>\n      <td>0.24</td>\n      <td>0.20</td>\n      <td>0.06</td>\n      <td>0.07</td>\n      <td>0.39</td>\n      <td>-0.21</td>\n    </tr>\n    <tr>\n      <th>total_phenols</th>\n      <td>0.29</td>\n      <td>-0.34</td>\n      <td>0.13</td>\n      <td>-0.32</td>\n      <td>0.21</td>\n      <td>1.00</td>\n      <td>0.86</td>\n      <td>-0.45</td>\n      <td>0.61</td>\n      <td>-0.06</td>\n      <td>0.43</td>\n      <td>0.70</td>\n      <td>0.50</td>\n      <td>-0.72</td>\n    </tr>\n    <tr>\n      <th>flavanoids</th>\n      <td>0.24</td>\n      <td>-0.41</td>\n      <td>0.12</td>\n      <td>-0.35</td>\n      <td>0.20</td>\n      <td>0.86</td>\n      <td>1.00</td>\n      <td>-0.54</td>\n      <td>0.65</td>\n      <td>-0.17</td>\n      <td>0.54</td>\n      <td>0.79</td>\n      <td>0.49</td>\n      <td>-0.85</td>\n    </tr>\n    <tr>\n      <th>nonflavanoid_phenols</th>\n      <td>-0.16</td>\n      <td>0.29</td>\n      <td>0.19</td>\n      <td>0.36</td>\n      <td>-0.26</td>\n      <td>-0.45</td>\n      <td>-0.54</td>\n      <td>1.00</td>\n      <td>-0.37</td>\n      <td>0.14</td>\n      <td>-0.26</td>\n      <td>-0.50</td>\n      <td>-0.31</td>\n      <td>0.49</td>\n    </tr>\n    <tr>\n      <th>proanthocyanins</th>\n      <td>0.14</td>\n      <td>-0.22</td>\n      <td>0.01</td>\n      <td>-0.20</td>\n      <td>0.24</td>\n      <td>0.61</td>\n      <td>0.65</td>\n      <td>-0.37</td>\n      <td>1.00</td>\n      <td>-0.03</td>\n      <td>0.30</td>\n      <td>0.52</td>\n      <td>0.33</td>\n      <td>-0.50</td>\n    </tr>\n    <tr>\n      <th>color_intensity</th>\n      <td>0.55</td>\n      <td>0.25</td>\n      <td>0.26</td>\n      <td>0.02</td>\n      <td>0.20</td>\n      <td>-0.06</td>\n      <td>-0.17</td>\n      <td>0.14</td>\n      <td>-0.03</td>\n      <td>1.00</td>\n      <td>-0.52</td>\n      <td>-0.43</td>\n      <td>0.32</td>\n      <td>0.27</td>\n    </tr>\n    <tr>\n      <th>hue</th>\n      <td>-0.07</td>\n      <td>-0.56</td>\n      <td>-0.07</td>\n      <td>-0.27</td>\n      <td>0.06</td>\n      <td>0.43</td>\n      <td>0.54</td>\n      <td>-0.26</td>\n      <td>0.30</td>\n      <td>-0.52</td>\n      <td>1.00</td>\n      <td>0.57</td>\n      <td>0.24</td>\n      <td>-0.62</td>\n    </tr>\n    <tr>\n      <th>od280/od315_of_diluted_wines</th>\n      <td>0.07</td>\n      <td>-0.37</td>\n      <td>0.00</td>\n      <td>-0.28</td>\n      <td>0.07</td>\n      <td>0.70</td>\n      <td>0.79</td>\n      <td>-0.50</td>\n      <td>0.52</td>\n      <td>-0.43</td>\n      <td>0.57</td>\n      <td>1.00</td>\n      <td>0.31</td>\n      <td>-0.79</td>\n    </tr>\n    <tr>\n      <th>proline</th>\n      <td>0.64</td>\n      <td>-0.19</td>\n      <td>0.22</td>\n      <td>-0.44</td>\n      <td>0.39</td>\n      <td>0.50</td>\n      <td>0.49</td>\n      <td>-0.31</td>\n      <td>0.33</td>\n      <td>0.32</td>\n      <td>0.24</td>\n      <td>0.31</td>\n      <td>1.00</td>\n      <td>-0.63</td>\n    </tr>\n    <tr>\n      <th>target</th>\n      <td>-0.33</td>\n      <td>0.44</td>\n      <td>-0.05</td>\n      <td>0.52</td>\n      <td>-0.21</td>\n      <td>-0.72</td>\n      <td>-0.85</td>\n      <td>0.49</td>\n      <td>-0.50</td>\n      <td>0.27</td>\n      <td>-0.62</td>\n      <td>-0.79</td>\n      <td>-0.63</td>\n      <td>1.00</td>\n    </tr>\n  </tbody>\n</table>\n</div>"
     },
     "metadata": {},
     "output_type": "execute_result",
     "execution_count": 207
    }
   ],
   "source": [
    "X_corr = X.corr()\n",
    "X_corr = np.round(X_corr, 2)\n",
    "X_corr"
   ],
   "metadata": {
    "collapsed": false,
    "pycharm": {
     "name": "#%%\n",
     "is_executing": false
    }
   }
  },
  {
   "cell_type": "markdown",
   "source": [
    "9). Создайте список high_corr из признаков, корреляция которых с полем target по абсолютному значению превышает 0.5 (причем, само поле target не должно входить в этот список).\n",
    "\n",
    "\n"
   ],
   "metadata": {
    "collapsed": false
   }
  },
  {
   "cell_type": "code",
   "execution_count": 208,
   "outputs": [
    {
     "data": {
      "text/plain": "                              alcohol  malic_acid   ash  alcalinity_of_ash  \\\nalcalinity_of_ash               -0.31        0.29  0.44               1.00   \ntotal_phenols                    0.29       -0.34  0.13              -0.32   \nflavanoids                       0.24       -0.41  0.12              -0.35   \nhue                             -0.07       -0.56 -0.07              -0.27   \nod280/od315_of_diluted_wines     0.07       -0.37  0.00              -0.28   \nproline                          0.64       -0.19  0.22              -0.44   \n\n                              magnesium  total_phenols  flavanoids  \\\nalcalinity_of_ash                 -0.08          -0.32       -0.35   \ntotal_phenols                      0.21           1.00        0.86   \nflavanoids                         0.20           0.86        1.00   \nhue                                0.06           0.43        0.54   \nod280/od315_of_diluted_wines       0.07           0.70        0.79   \nproline                            0.39           0.50        0.49   \n\n                              nonflavanoid_phenols  proanthocyanins  \\\nalcalinity_of_ash                             0.36            -0.20   \ntotal_phenols                                -0.45             0.61   \nflavanoids                                   -0.54             0.65   \nhue                                          -0.26             0.30   \nod280/od315_of_diluted_wines                 -0.50             0.52   \nproline                                      -0.31             0.33   \n\n                              color_intensity   hue  \\\nalcalinity_of_ash                        0.02 -0.27   \ntotal_phenols                           -0.06  0.43   \nflavanoids                              -0.17  0.54   \nhue                                     -0.52  1.00   \nod280/od315_of_diluted_wines            -0.43  0.57   \nproline                                  0.32  0.24   \n\n                              od280/od315_of_diluted_wines  proline  target  \nalcalinity_of_ash                                    -0.28    -0.44    0.52  \ntotal_phenols                                         0.70     0.50   -0.72  \nflavanoids                                            0.79     0.49   -0.85  \nhue                                                   0.57     0.24   -0.62  \nod280/od315_of_diluted_wines                          1.00     0.31   -0.79  \nproline                                               0.31     1.00   -0.63  ",
      "text/html": "<div>\n<style scoped>\n    .dataframe tbody tr th:only-of-type {\n        vertical-align: middle;\n    }\n\n    .dataframe tbody tr th {\n        vertical-align: top;\n    }\n\n    .dataframe thead th {\n        text-align: right;\n    }\n</style>\n<table border=\"1\" class=\"dataframe\">\n  <thead>\n    <tr style=\"text-align: right;\">\n      <th></th>\n      <th>alcohol</th>\n      <th>malic_acid</th>\n      <th>ash</th>\n      <th>alcalinity_of_ash</th>\n      <th>magnesium</th>\n      <th>total_phenols</th>\n      <th>flavanoids</th>\n      <th>nonflavanoid_phenols</th>\n      <th>proanthocyanins</th>\n      <th>color_intensity</th>\n      <th>hue</th>\n      <th>od280/od315_of_diluted_wines</th>\n      <th>proline</th>\n      <th>target</th>\n    </tr>\n  </thead>\n  <tbody>\n    <tr>\n      <th>alcalinity_of_ash</th>\n      <td>-0.31</td>\n      <td>0.29</td>\n      <td>0.44</td>\n      <td>1.00</td>\n      <td>-0.08</td>\n      <td>-0.32</td>\n      <td>-0.35</td>\n      <td>0.36</td>\n      <td>-0.20</td>\n      <td>0.02</td>\n      <td>-0.27</td>\n      <td>-0.28</td>\n      <td>-0.44</td>\n      <td>0.52</td>\n    </tr>\n    <tr>\n      <th>total_phenols</th>\n      <td>0.29</td>\n      <td>-0.34</td>\n      <td>0.13</td>\n      <td>-0.32</td>\n      <td>0.21</td>\n      <td>1.00</td>\n      <td>0.86</td>\n      <td>-0.45</td>\n      <td>0.61</td>\n      <td>-0.06</td>\n      <td>0.43</td>\n      <td>0.70</td>\n      <td>0.50</td>\n      <td>-0.72</td>\n    </tr>\n    <tr>\n      <th>flavanoids</th>\n      <td>0.24</td>\n      <td>-0.41</td>\n      <td>0.12</td>\n      <td>-0.35</td>\n      <td>0.20</td>\n      <td>0.86</td>\n      <td>1.00</td>\n      <td>-0.54</td>\n      <td>0.65</td>\n      <td>-0.17</td>\n      <td>0.54</td>\n      <td>0.79</td>\n      <td>0.49</td>\n      <td>-0.85</td>\n    </tr>\n    <tr>\n      <th>hue</th>\n      <td>-0.07</td>\n      <td>-0.56</td>\n      <td>-0.07</td>\n      <td>-0.27</td>\n      <td>0.06</td>\n      <td>0.43</td>\n      <td>0.54</td>\n      <td>-0.26</td>\n      <td>0.30</td>\n      <td>-0.52</td>\n      <td>1.00</td>\n      <td>0.57</td>\n      <td>0.24</td>\n      <td>-0.62</td>\n    </tr>\n    <tr>\n      <th>od280/od315_of_diluted_wines</th>\n      <td>0.07</td>\n      <td>-0.37</td>\n      <td>0.00</td>\n      <td>-0.28</td>\n      <td>0.07</td>\n      <td>0.70</td>\n      <td>0.79</td>\n      <td>-0.50</td>\n      <td>0.52</td>\n      <td>-0.43</td>\n      <td>0.57</td>\n      <td>1.00</td>\n      <td>0.31</td>\n      <td>-0.79</td>\n    </tr>\n    <tr>\n      <th>proline</th>\n      <td>0.64</td>\n      <td>-0.19</td>\n      <td>0.22</td>\n      <td>-0.44</td>\n      <td>0.39</td>\n      <td>0.50</td>\n      <td>0.49</td>\n      <td>-0.31</td>\n      <td>0.33</td>\n      <td>0.32</td>\n      <td>0.24</td>\n      <td>0.31</td>\n      <td>1.00</td>\n      <td>-0.63</td>\n    </tr>\n  </tbody>\n</table>\n</div>"
     },
     "metadata": {},
     "output_type": "execute_result",
     "execution_count": 208
    }
   ],
   "source": [
    "high_corr = X_corr.copy()\n",
    "high_corr = high_corr.loc[abs(high_corr['target']) > 0.5, :]\n",
    "high_corr.drop(['target'], axis=0, inplace=True)\n",
    "high_corr\n"
   ],
   "metadata": {
    "collapsed": false,
    "pycharm": {
     "name": "#%%\n",
     "is_executing": false
    }
   }
  },
  {
   "cell_type": "markdown",
   "source": [
    "10). Удалите из датафрейма X поле с целевой переменной. Для всех признаков, названия которых содержатся в списке high_corr, вычислите квадрат их значений и добавьте в датафрейм X соответствующие поля с суффиксом '_2', добавленного к первоначальному названию признака. Итоговый датафрейм должен содержать все поля, которые, были в нем изначально, а также поля с признаками из списка high_corr, возведенными в квадрат. Выведите описание полей датафрейма X с помощью метода describe.\n",
    "\n"
   ],
   "metadata": {
    "collapsed": false,
    "pycharm": {
     "name": "#%% md\n",
     "is_executing": false
    }
   }
  },
  {
   "cell_type": "code",
   "execution_count": 255,
   "outputs": [
    {
     "data": {
      "text/plain": "   alcohol  malic_acid   ash  alcalinity_of_ash  magnesium  total_phenols  \\\n0    14.23        1.71  2.43               15.6      127.0           2.80   \n1    13.20        1.78  2.14               11.2      100.0           2.65   \n2    13.16        2.36  2.67               18.6      101.0           2.80   \n3    14.37        1.95  2.50               16.8      113.0           3.85   \n4    13.24        2.59  2.87               21.0      118.0           2.80   \n\n   flavanoids  nonflavanoid_phenols  proanthocyanins  color_intensity   hue  \\\n0        3.06                  0.28             2.29             5.64  1.04   \n1        2.76                  0.26             1.28             4.38  1.05   \n2        3.24                  0.30             2.81             5.68  1.03   \n3        3.49                  0.24             2.18             7.80  0.86   \n4        2.69                  0.39             1.82             4.32  1.04   \n\n   od280/od315_of_diluted_wines  proline  target  alcalinity_of_ash_2  \\\n0                          3.92   1065.0       0               0.2704   \n1                          3.40   1050.0       0               0.2704   \n2                          3.17   1185.0       0               0.2704   \n3                          3.45   1480.0       0               0.2704   \n4                          2.93    735.0       0               0.2704   \n\n   total_phenols_2  flavanoids_2   hue_2  od280/od315_of_diluted_wines_2  \\\n0           0.5184        0.7225  0.3844                          0.6241   \n1           0.5184        0.7225  0.3844                          0.6241   \n2           0.5184        0.7225  0.3844                          0.6241   \n3           0.5184        0.7225  0.3844                          0.6241   \n4           0.5184        0.7225  0.3844                          0.6241   \n\n   proline_2  \n0     0.3969  \n1     0.3969  \n2     0.3969  \n3     0.3969  \n4     0.3969  ",
      "text/html": "<div>\n<style scoped>\n    .dataframe tbody tr th:only-of-type {\n        vertical-align: middle;\n    }\n\n    .dataframe tbody tr th {\n        vertical-align: top;\n    }\n\n    .dataframe thead th {\n        text-align: right;\n    }\n</style>\n<table border=\"1\" class=\"dataframe\">\n  <thead>\n    <tr style=\"text-align: right;\">\n      <th></th>\n      <th>alcohol</th>\n      <th>malic_acid</th>\n      <th>ash</th>\n      <th>alcalinity_of_ash</th>\n      <th>magnesium</th>\n      <th>total_phenols</th>\n      <th>flavanoids</th>\n      <th>nonflavanoid_phenols</th>\n      <th>proanthocyanins</th>\n      <th>color_intensity</th>\n      <th>hue</th>\n      <th>od280/od315_of_diluted_wines</th>\n      <th>proline</th>\n      <th>target</th>\n      <th>alcalinity_of_ash_2</th>\n      <th>total_phenols_2</th>\n      <th>flavanoids_2</th>\n      <th>hue_2</th>\n      <th>od280/od315_of_diluted_wines_2</th>\n      <th>proline_2</th>\n    </tr>\n  </thead>\n  <tbody>\n    <tr>\n      <th>0</th>\n      <td>14.23</td>\n      <td>1.71</td>\n      <td>2.43</td>\n      <td>15.6</td>\n      <td>127.0</td>\n      <td>2.80</td>\n      <td>3.06</td>\n      <td>0.28</td>\n      <td>2.29</td>\n      <td>5.64</td>\n      <td>1.04</td>\n      <td>3.92</td>\n      <td>1065.0</td>\n      <td>0</td>\n      <td>0.2704</td>\n      <td>0.5184</td>\n      <td>0.7225</td>\n      <td>0.3844</td>\n      <td>0.6241</td>\n      <td>0.3969</td>\n    </tr>\n    <tr>\n      <th>1</th>\n      <td>13.20</td>\n      <td>1.78</td>\n      <td>2.14</td>\n      <td>11.2</td>\n      <td>100.0</td>\n      <td>2.65</td>\n      <td>2.76</td>\n      <td>0.26</td>\n      <td>1.28</td>\n      <td>4.38</td>\n      <td>1.05</td>\n      <td>3.40</td>\n      <td>1050.0</td>\n      <td>0</td>\n      <td>0.2704</td>\n      <td>0.5184</td>\n      <td>0.7225</td>\n      <td>0.3844</td>\n      <td>0.6241</td>\n      <td>0.3969</td>\n    </tr>\n    <tr>\n      <th>2</th>\n      <td>13.16</td>\n      <td>2.36</td>\n      <td>2.67</td>\n      <td>18.6</td>\n      <td>101.0</td>\n      <td>2.80</td>\n      <td>3.24</td>\n      <td>0.30</td>\n      <td>2.81</td>\n      <td>5.68</td>\n      <td>1.03</td>\n      <td>3.17</td>\n      <td>1185.0</td>\n      <td>0</td>\n      <td>0.2704</td>\n      <td>0.5184</td>\n      <td>0.7225</td>\n      <td>0.3844</td>\n      <td>0.6241</td>\n      <td>0.3969</td>\n    </tr>\n    <tr>\n      <th>3</th>\n      <td>14.37</td>\n      <td>1.95</td>\n      <td>2.50</td>\n      <td>16.8</td>\n      <td>113.0</td>\n      <td>3.85</td>\n      <td>3.49</td>\n      <td>0.24</td>\n      <td>2.18</td>\n      <td>7.80</td>\n      <td>0.86</td>\n      <td>3.45</td>\n      <td>1480.0</td>\n      <td>0</td>\n      <td>0.2704</td>\n      <td>0.5184</td>\n      <td>0.7225</td>\n      <td>0.3844</td>\n      <td>0.6241</td>\n      <td>0.3969</td>\n    </tr>\n    <tr>\n      <th>4</th>\n      <td>13.24</td>\n      <td>2.59</td>\n      <td>2.87</td>\n      <td>21.0</td>\n      <td>118.0</td>\n      <td>2.80</td>\n      <td>2.69</td>\n      <td>0.39</td>\n      <td>1.82</td>\n      <td>4.32</td>\n      <td>1.04</td>\n      <td>2.93</td>\n      <td>735.0</td>\n      <td>0</td>\n      <td>0.2704</td>\n      <td>0.5184</td>\n      <td>0.7225</td>\n      <td>0.3844</td>\n      <td>0.6241</td>\n      <td>0.3969</td>\n    </tr>\n  </tbody>\n</table>\n</div>"
     },
     "metadata": {},
     "output_type": "execute_result",
     "execution_count": 255
    }
   ],
   "source": [
    "#X.drop(['target'], axis=1, inplace=True)\n",
    "\n",
    "\n",
    "high_corr_sqrt = high_corr.loc[abs(high_corr['target']) > 0.5, 'target']\n",
    "high_corr_sqrt = pd.DataFrame(high_corr_sqrt)\n",
    "index_list = high_corr_sqrt.index\n",
    "\n",
    "feature_to_sqrt = []\n",
    "\n",
    "for i in index_list:\n",
    "    feature_to_sqrt.append(i)\n",
    "    \n",
    "\n",
    "for i in feature_to_sqrt:\n",
    "    X[i+'_2'] = (high_corr_sqrt._get_value(i, 'target')) * (high_corr_sqrt._get_value(i, 'target'))\n",
    "    \n",
    "\n",
    "X.head()"
   ],
   "metadata": {
    "collapsed": false,
    "pycharm": {
     "name": "#%%\n",
     "is_executing": false
    }
   }
  }
 ],
 "metadata": {
  "kernelspec": {
   "display_name": "Python 3",
   "language": "python",
   "name": "python3"
  },
  "language_info": {
   "codemirror_mode": {
    "name": "ipython",
    "version": 2
   },
   "file_extension": ".py",
   "mimetype": "text/x-python",
   "name": "python",
   "nbconvert_exporter": "python",
   "pygments_lexer": "ipython2",
   "version": "2.7.6"
  },
  "pycharm": {
   "stem_cell": {
    "cell_type": "raw",
    "source": [],
    "metadata": {
     "collapsed": false
    }
   }
  }
 },
 "nbformat": 4,
 "nbformat_minor": 0
}