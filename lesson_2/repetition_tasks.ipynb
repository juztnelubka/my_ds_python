{
 "cells": [
  {
   "cell_type": "markdown",
   "source": [
    "##### Задача 1\n",
    "Создать одномерный массив Numpy под названием a из 12 последовательных целых чисел чисел от 12 до 24 невключительно"
   ],
   "metadata": {
    "collapsed": false
   }
  },
  {
   "cell_type": "code",
   "execution_count": 467,
   "outputs": [],
   "source": [
    "import numpy as np\n",
    "import pandas as pd"
   ],
   "metadata": {
    "collapsed": false,
    "pycharm": {
     "name": "#%%\n",
     "is_executing": false
    }
   }
  },
  {
   "cell_type": "code",
   "execution_count": 468,
   "outputs": [
    {
     "data": {
      "text/plain": "array([12, 13, 14, 15, 16, 17, 18, 19, 20, 21, 22, 23])"
     },
     "metadata": {},
     "output_type": "execute_result",
     "execution_count": 468
    }
   ],
   "source": [
    "a = np.arange(12,24)\n",
    "a"
   ],
   "metadata": {
    "collapsed": false,
    "pycharm": {
     "name": "#%%\n",
     "is_executing": false
    }
   }
  },
  {
   "cell_type": "markdown",
   "source": [
    "##### Задача 2\n",
    "\n",
    "Создать 5 двумерных массивов разной формы из массива a. Не использовать в аргументах метода reshape число -1."
   ],
   "metadata": {
    "collapsed": false
   }
  },
  {
   "cell_type": "code",
   "execution_count": 469,
   "outputs": [
    {
     "data": {
      "text/plain": "(1, 12)"
     },
     "metadata": {},
     "output_type": "execute_result",
     "execution_count": 469
    }
   ],
   "source": [
    "a_1 = a.reshape(2,6)\n",
    "a_2 = a.reshape(4,3)\n",
    "a_3 = a.reshape(3,4)\n",
    "a_4 = a.reshape(6,2)\n",
    "a_5 = a.reshape(1,12)\n",
    "np.shape(a_5)"
   ],
   "metadata": {
    "collapsed": false,
    "pycharm": {
     "name": "#%%\n",
     "is_executing": false
    }
   }
  },
  {
   "cell_type": "markdown",
   "source": [
    "##### Задача 3\n",
    "\n",
    "Создать 5 двумерных массивов разной формы из массива a. Использовать в аргументах метода reshape число -1 (в трех примерах - для обозначения числа столбцов, в двух - для строк)."
   ],
   "metadata": {
    "collapsed": false
   }
  },
  {
   "cell_type": "code",
   "execution_count": 470,
   "outputs": [
    {
     "data": {
      "text/plain": "array([[12, 13, 14],\n       [15, 16, 17],\n       [18, 19, 20],\n       [21, 22, 23]])"
     },
     "metadata": {},
     "output_type": "execute_result",
     "execution_count": 470
    }
   ],
   "source": [
    "a_1 = a.reshape (-1, 12)\n",
    "a_2 = a.reshape (-1, 6)\n",
    "a_3 = a.reshape (-1, 3)\n",
    "a_4 = a.reshape (2, -1)\n",
    "a_5 = a.reshape(4, -1)\n",
    "a_5"
   ],
   "metadata": {
    "collapsed": false,
    "pycharm": {
     "name": "#%%\n",
     "is_executing": false
    }
   }
  },
  {
   "cell_type": "markdown",
   "source": [
    "##### Задача 4\n",
    "\n",
    "Можно ли массив Numpy, состоящий из одного столбца и 12 строк, назвать одномерным?"
   ],
   "metadata": {
    "collapsed": false
   }
  },
  {
   "cell_type": "code",
   "execution_count": 471,
   "outputs": [
    {
     "name": "stdout",
     "text": [
      "[12 13 14 15 16 17 18 19 20 21 22 23]\n[[12 13 14 15 16 17 18 19 20 21 22 23]]\n1\n2\nНельзя, потому, что массив a_1 содержит 1 элемент, который является массивом\n"
     ],
     "output_type": "stream"
    }
   ],
   "source": [
    "print(a)\n",
    "print(a_1)\n",
    "print(a.ndim)\n",
    "print(a_1.ndim)\n",
    "print('Нельзя, потому, что массив a_1 содержит 1 элемент, который является массивом')"
   ],
   "metadata": {
    "collapsed": false,
    "pycharm": {
     "name": "#%%\n",
     "is_executing": false
    }
   }
  },
  {
   "cell_type": "markdown",
   "source": [
    "##### Задача 5\n",
    "\n",
    "Создать массив из 3 строк и 4 столбцов, состоящий из случайных чисел с плавающей запятой из нормального распределения со средним, равным 0 и среднеквадратичным отклонением, равным 1.0. Получить из этого массива одномерный массив с таким же атрибутом size, как и исходный массив.\n"
   ],
   "metadata": {
    "collapsed": false
   }
  },
  {
   "cell_type": "code",
   "execution_count": 472,
   "outputs": [
    {
     "name": "stdout",
     "text": [
      "12\n12\n"
     ],
     "output_type": "stream"
    }
   ],
   "source": [
    "a = np.random.randn(3, 4)\n",
    "\n",
    "a_shaped = np.reshape(a, 12)\n",
    "print(np.size(a))\n",
    "print(np.size(a_shaped))"
   ],
   "metadata": {
    "collapsed": false,
    "pycharm": {
     "name": "#%%\n",
     "is_executing": false
    }
   }
  },
  {
   "cell_type": "markdown",
   "source": [
    "##### Задача 6\n",
    "\n",
    "Создать массив a, состоящий из целых чисел, убывающих от 20 до 0 невключительно с интервалом 2."
   ],
   "metadata": {
    "collapsed": false
   }
  },
  {
   "cell_type": "code",
   "execution_count": 473,
   "outputs": [
    {
     "data": {
      "text/plain": "array([20, 18, 16, 14, 12, 10,  8,  6,  4,  2])"
     },
     "metadata": {},
     "output_type": "execute_result",
     "execution_count": 473
    }
   ],
   "source": [
    "a = np.arange(20, 0, -2)\n",
    "a"
   ],
   "metadata": {
    "collapsed": false,
    "pycharm": {
     "name": "#%%\n",
     "is_executing": false
    }
   }
  },
  {
   "cell_type": "markdown",
   "source": [
    "##### Задача 7\n",
    "\n",
    "Создать массив b, состоящий из 1 строки и 10 столбцов: целых чисел, убывающих от 20 до 1 невключительно с интервалом 2. В чем разница между массивами a и b?"
   ],
   "metadata": {
    "collapsed": false
   }
  },
  {
   "cell_type": "code",
   "execution_count": 474,
   "outputs": [
    {
     "name": "stdout",
     "text": [
      "Массив a - одномерный,b - двумерный\n"
     ],
     "output_type": "stream"
    }
   ],
   "source": [
    "b = np.reshape(a, (1, 10))\n",
    "print('Массив a - одномерный,b - двумерный')"
   ],
   "metadata": {
    "collapsed": false,
    "pycharm": {
     "name": "#%%\n",
     "is_executing": false
    }
   }
  },
  {
   "cell_type": "markdown",
   "source": [
    "##### Задача 8\n",
    "\n",
    "Вертикально соединить массивы a и b. a - двумерный массив из нулей, число строк которого больше 1 и на 1 меньше, чем число строк двумерного массива b, состоящего из единиц. Итоговый массив v должен иметь атрибут size, равный 10."
   ],
   "metadata": {
    "collapsed": false
   }
  },
  {
   "cell_type": "code",
   "execution_count": 475,
   "outputs": [],
   "source": [
    "b = np.ones((2, 2))\n",
    "a = np.zeros(((np.shape(b)[0]) + 1, 2))\n",
    "\n",
    "c = np.vstack((a, b))"
   ],
   "metadata": {
    "collapsed": false,
    "pycharm": {
     "name": "#%%\n",
     "is_executing": false
    }
   }
  },
  {
   "cell_type": "markdown",
   "source": [
    "##### Задача 9\n",
    "\n",
    "Создать одномерный массив а, состоящий из последовательности целых чисел от 0 до 12. Поменять форму этого массива, чтобы получилась матрица A (двумерный массив Numpy), состоящая из 4 строк и 3 столбцов. Получить матрицу At путем транспонирования матрицы A. Получить матрицу B, умножив матрицу A на матрицу At с помощью матричного умножения. Какой размер имеет матрица B? Получится ли вычислить обратную матрицу для матрицы B и почему?"
   ],
   "metadata": {
    "collapsed": false,
    "pycharm": {
     "name": "#%% md\n"
    }
   }
  },
  {
   "cell_type": "code",
   "execution_count": 476,
   "outputs": [
    {
     "name": "stdout",
     "text": [
      "0.0\nЕсли умножать матрицу размера 4,k на k,4 то получиться 4,4 матрица.\nНе получится потому, что определитель матрицы b равен нулю.\n"
     ],
     "output_type": "stream"
    }
   ],
   "source": [
    "a = np.arange(12)\n",
    "a = a.reshape(4, 3)\n",
    "At = a.T\n",
    "B = np.dot(a, At)\n",
    "print(np.linalg.det(B))\n",
    "print('Если умножать матрицу размера 4,k на k,4 то получиться 4,4 матрица.')\n",
    "print('Не получится потому, что определитель матрицы b равен нулю.')"
   ],
   "metadata": {
    "collapsed": false,
    "pycharm": {
     "name": "#%%\n",
     "is_executing": false
    }
   }
  },
  {
   "cell_type": "markdown",
   "source": [
    "##### Задача 10\n",
    "\n",
    "Инициализируйте генератор случайных чисел с помощью объекта seed, равного 42.\n",
    "\n"
   ],
   "metadata": {
    "collapsed": false,
    "pycharm": {
     "name": "#%% md\n"
    }
   }
  },
  {
   "cell_type": "code",
   "execution_count": 477,
   "outputs": [
    {
     "data": {
      "text/plain": "array([[0.37454012, 0.95071431, 0.73199394, 0.59865848],\n       [0.15601864, 0.15599452, 0.05808361, 0.86617615],\n       [0.60111501, 0.70807258, 0.02058449, 0.96990985]])"
     },
     "metadata": {},
     "output_type": "execute_result",
     "execution_count": 477
    }
   ],
   "source": [
    "a = np.random.seed(42)\n",
    "np.random.rand(3, 4)"
   ],
   "metadata": {
    "collapsed": false,
    "pycharm": {
     "name": "#%%\n",
     "is_executing": false
    }
   }
  },
  {
   "cell_type": "markdown",
   "source": [
    "##### Задача 11\n",
    "\n",
    "Создайте одномерный массив c, составленный из последовательности 16-ти случайных равномерно распределенных целых чисел от 0 до 16 невключительно"
   ],
   "metadata": {
    "collapsed": false
   }
  },
  {
   "cell_type": "code",
   "execution_count": 478,
   "outputs": [
    {
     "data": {
      "text/plain": "array([[0., 0.],\n       [0., 0.],\n       [0., 0.],\n       [1., 1.],\n       [1., 1.]])"
     },
     "metadata": {},
     "output_type": "execute_result",
     "execution_count": 478
    }
   ],
   "source": [
    "C = np.random.randint(0, 16, 16)\n",
    "\n",
    "c"
   ],
   "metadata": {
    "collapsed": false,
    "pycharm": {
     "name": "#%%\n",
     "is_executing": false
    }
   }
  },
  {
   "cell_type": "markdown",
   "source": [
    "##### Задача 12\n",
    "\n",
    "Поменяйте его форму так, чтобы получилась квадратная матрица C. Получите матрицу D, поэлементно прибавив матрицу B из предыдущего вопроса к матрице C, умноженной на 10. Вычислите определитель, ранг и обратную матрицу D_inv для D.\n"
   ],
   "metadata": {
    "collapsed": false
   }
  },
  {
   "cell_type": "code",
   "execution_count": 479,
   "outputs": [
    {
     "name": "stdout",
     "text": [
      "-31734200.000000056\n4\n[[-0.02273446  0.03132204 -0.03241865  0.01964316]\n [ 0.02434471 -0.02021478  0.00035671  0.00329676]\n [ 0.00561098 -0.0128423   0.06299513 -0.04871464]\n [-0.00716136  0.00586623 -0.02194919  0.01958266]]\n"
     ],
     "output_type": "stream"
    }
   ],
   "source": [
    "C = np.reshape(C, (4, 4))\n",
    "\n",
    "D = B + (C * 10)\n",
    "print(np.linalg.det(D))\n",
    "print(np.linalg.matrix_rank(D))\n",
    "D_inv = np.linalg.inv(D)\n",
    "print(D_inv)"
   ],
   "metadata": {
    "collapsed": false,
    "pycharm": {
     "name": "#%%\n",
     "is_executing": false
    }
   }
  },
  {
   "cell_type": "markdown",
   "source": [
    "##### Задача 13\n",
    "\n",
    "Приравняйте к нулю отрицательные числа в матрице D_inv, а положительные - к единице. Убедитесь, что в матрице D_inv остались только нули и единицы. С помощью функции numpy.where, используя матрицу D_inv в качестве маски, а матрицы B и C - в качестве источников данных, получите матрицу E размером 4x4.  Элементы матрицы E, для которых соответствующий элемент матрицы D_inv равен 1, должны быть равны соответствующему элементу матрицы B, а элементы матрицы E, для которых соответствующий элемент матрицы D_inv равен 0, должны быть равны соответствующему элементу матрицы C.\n"
   ],
   "metadata": {
    "collapsed": false
   }
  },
  {
   "cell_type": "code",
   "execution_count": 491,
   "outputs": [
    {
     "name": "stdout",
     "text": [
      "[[  5  14  23  32]\n [ 14  50  86 122]\n [ 23  86 149 212]\n [ 32 122 212 302]]\n[[11 13  5  1]\n [15 11  4  0]\n [11  9  5 12]\n [11  8  0 10]]\n[[0. 1. 0. 1.]\n [1. 0. 1. 1.]\n [1. 0. 1. 0.]\n [0. 1. 0. 1.]]\n[[ 11  14   5  32]\n [ 14  11  86 122]\n [ 23   9 149  12]\n [ 11 122   0 302]]\n"
     ],
     "output_type": "stream"
    }
   ],
   "source": [
    "np.place(D_inv, D_inv > 0, 1)\n",
    "np.place(D_inv, D_inv < 0, 0)\n",
    "D_inv\n",
    "print(B)\n",
    "print(C)\n",
    "print(D_inv)\n",
    "E = np.where(D_inv, B, C)\n",
    "print(E)\n"
   ],
   "metadata": {
    "collapsed": false,
    "pycharm": {
     "name": "#%%\n",
     "is_executing": false
    }
   }
  }
 ],
 "metadata": {
  "kernelspec": {
   "display_name": "Python 3",
   "language": "python",
   "name": "python3"
  },
  "language_info": {
   "codemirror_mode": {
    "name": "ipython",
    "version": 2
   },
   "file_extension": ".py",
   "mimetype": "text/x-python",
   "name": "python",
   "nbconvert_exporter": "python",
   "pygments_lexer": "ipython2",
   "version": "2.7.6"
  },
  "pycharm": {
   "stem_cell": {
    "cell_type": "raw",
    "source": [],
    "metadata": {
     "collapsed": false
    }
   }
  }
 },
 "nbformat": 4,
 "nbformat_minor": 0
}